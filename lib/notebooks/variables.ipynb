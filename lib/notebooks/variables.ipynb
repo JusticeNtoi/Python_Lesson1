{
 "cells": [
  {
   "cell_type": "markdown",
   "metadata": {},
   "source": [
    "# DECLARING VARIABLES IN PYTHON"
   ]
  },
  {
   "cell_type": "code",
   "execution_count": 18,
   "metadata": {},
   "outputs": [],
   "source": [
    "# String variable\n",
    "string_variable = \"Hi welcome to python\"\n",
    "\n",
    "# Integer variable\n",
    "int_variable = 3\n",
    "\n",
    "# Float variable\n",
    "float_variable = 3.11\n",
    "\n",
    "# Boolean variable\n",
    "bool_variable = True\n",
    "\n",
    "# List variable\n",
    "list_variable = [\n",
    "    \"Number 0\",\n",
    "    \"Number 1\",\n",
    "    \"Number 2\",\n",
    "    \"Number 3\",\n",
    "    \"Number 4\",\n",
    "    \"Number 5\",\n",
    "]\n",
    "\n",
    "# Tuple variable\n",
    "tuple_variable = (1, 0)"
   ]
  },
  {
   "cell_type": "markdown",
   "metadata": {},
   "source": [
    "DECLARING VARIABLES IN PYTHON WITH TYPE HINT"
   ]
  },
  {
   "cell_type": "code",
   "execution_count": null,
   "metadata": {},
   "outputs": [],
   "source": [
    "# String variable\n",
    "string_variable: str = \"Hi welcome to python\"\n",
    "\n",
    "# Integer variable\n",
    "int_variable: int = 3\n",
    "\n",
    "# Float variable\n",
    "float_variable: float = 3.11\n",
    "\n",
    "# Boolean variable\n",
    "bool_variable: bool = True\n",
    "\n",
    "# List variable (list of strings)\n",
    "list_variable: list[str] = [\n",
    "    \"Number 0\",\n",
    "    \"Number 1\",\n",
    "    \"Number 2\",\n",
    "    \"Number 3\",\n",
    "    \"Number 4\",\n",
    "    \"Number 5\",\n",
    "]\n",
    "\n",
    "# Tuple variable (tuple of integers)\n",
    "tuple_variable: tuple[int, int] = (1, 0)"
   ]
  },
  {
   "cell_type": "markdown",
   "metadata": {},
   "source": [
    "# STRING FUNCTIONS"
   ]
  },
  {
   "cell_type": "code",
   "execution_count": null,
   "metadata": {},
   "outputs": [],
   "source": [
    "# Convert the string to lowercase\n",
    "print(\"# Convert the string to lowercase\")\n",
    "print(string_variable.lower())\n",
    "\n",
    "# Convert the string to uppercase and check if it's fully uppercase\n",
    "print(\"\\n# Convert the string to uppercase and check if it's fully uppercase\")\n",
    "print(string_variable.upper().isupper())\n",
    "\n",
    "# Get the length of the string\n",
    "print(\"\\n# Get the length of the string\")\n",
    "print(len(string_variable))\n",
    "\n",
    "# Access a specific character by index (0-based)\n",
    "print(\"\\n# Access a specific character by index (0-based)\")\n",
    "print(string_variable[0])\n",
    "\n",
    "# Find the index of a specific character or substring (case-sensitive)\n",
    "print(\"\\n# Find the index of a specific character or substring (case-sensitive)\")\n",
    "print(string_variable.index(\"w\"))\n",
    "\n",
    "# Replace all occurrences of a substring with another substring\n",
    "print(\"\\n# Replace all occurrences of a substring with another substring\")\n",
    "print(string_variable.replace(\"i\", \"ey\"))\n",
    "\n",
    "# Check if the string starts with a specific substring\n",
    "print(\"\\n# Check if the string starts with a specific substring\")\n",
    "print(string_variable.startswith(\"Hi\"))\n",
    "\n",
    "# Check if the string ends with a specific substring\n",
    "print(\"\\n# Check if the string ends with a specific substring\")\n",
    "print(string_variable.endswith(\"python\"))\n",
    "\n",
    "# Split the string into a list of words\n",
    "print(\"\\n# Split the string into a list of words\")\n",
    "print(string_variable.split())\n",
    "\n",
    "# Strip whitespace from the beginning and end of the string\n",
    "print(\"\\n# Strip whitespace from the beginning and end of the string\")\n",
    "print(string_variable.strip())"
   ]
  },
  {
   "cell_type": "markdown",
   "metadata": {},
   "source": [
    "# INT AND FLOAT FUNCTIONS"
   ]
  },
  {
   "cell_type": "code",
   "execution_count": null,
   "metadata": {},
   "outputs": [],
   "source": [
    "# Convert an integer to a string\n",
    "print(\"# Convert an integer to a string\")\n",
    "print(str(int_variable))\n",
    "\n",
    "# Raise a number to a power (int_variable^2)\n",
    "print(\"\\n# Raise a number to a power (int_variable^2)\")\n",
    "print(pow(int_variable, 2))\n",
    "\n",
    "# Find the minimum value between int_variable and 4\n",
    "print(\"\\n# Find the minimum value between int_variable and 4\")\n",
    "print(min(int_variable, 4))\n",
    "\n",
    "# Find the maximum value between two or more numbers\n",
    "print(\"\\n# Find the maximum value between two or more numbers\")\n",
    "print(max(int_variable, 4, 5))\n",
    "\n",
    "# Round the float variable to the nearest integer\n",
    "print(\"\\n# Round the float variable to the nearest integer\")\n",
    "print(round(float_variable))\n",
    "\n",
    "# Find the absolute value of a number\n",
    "print(\"\\n# Find the absolute value of a number\")\n",
    "print(abs(-int_variable))\n",
    "\n",
    "# Convert a float to an integer (truncates decimal part)\n",
    "print(\"\\n# Convert a float to an integer (truncates decimal part)\")\n",
    "print(int(float_variable))"
   ]
  },
  {
   "cell_type": "markdown",
   "metadata": {},
   "source": [
    "# LIST FUNCTIONS"
   ]
  },
  {
   "cell_type": "code",
   "execution_count": null,
   "metadata": {},
   "outputs": [],
   "source": [
    "# Access the first element of the list\n",
    "print(\"# Access the first element of the list\")\n",
    "print(list_variable[0])\n",
    "\n",
    "# Access all elements from index 1 onwards\n",
    "print(\"\\n# Access all elements from index 1 onwards\")\n",
    "print(list_variable[1:])\n",
    "\n",
    "# Access elements from index 1 to 2 (excluding index 3)\n",
    "print(\"\\n# Access elements from index 1 to 2 (excluding index 3)\")\n",
    "print(list_variable[1:3])\n",
    "\n",
    "# Access the last element of the list\n",
    "print(\"\\n# Access the last element of the list\")\n",
    "print(list_variable[-1])\n",
    "\n",
    "# Extend the list by appending all elements from another list\n",
    "print(\"\\n# Extend the list by appending all elements from another list\")\n",
    "list_variable.extend(list_variable)\n",
    "print(list_variable)\n",
    "\n",
    "# Add an element to the end of the list\n",
    "print(\"\\n# Add an element to the end of the list\")\n",
    "list_variable.append(\"Number 6\")\n",
    "print(list_variable)\n",
    "\n",
    "# Insert an element at a specific position\n",
    "print(\"\\n# Insert an element at a specific position\")\n",
    "list_variable.insert(1, \"Number 0.5\")\n",
    "print(list_variable)\n",
    "\n",
    "# Remove a specific element from the list\n",
    "print(\"\\n# Remove a specific element from the list\")\n",
    "list_variable.remove(\"Number 3\")\n",
    "print(list_variable)\n",
    "\n",
    "# Remove and return the last element of the list\n",
    "print(\"\\n# Remove and return the last element of the list\")\n",
    "print(list_variable.pop())\n",
    "\n",
    "# Sort the list in ascending order (works for numbers or strings)\n",
    "print(\"\\n# Sort the list in ascending order (works for numbers or strings)\")\n",
    "list_variable.sort()\n",
    "print(list_variable)\n",
    "\n",
    "# Create a copy of the list\n",
    "print(\"\\n# Create a copy of the list\")\n",
    "copied_list = list_variable.copy()\n",
    "print(copied_list)\n",
    "\n",
    "# Count the occurrences of a specific element in the list\n",
    "print(\"\\n# Count the occurrences of a specific element in the list\")\n",
    "print(list_variable.count(\"a\"))\n",
    "\n",
    "# Reverse the order of the elements in the list\n",
    "print(\"\\n# Reverse the order of the elements in the list\")\n",
    "list_variable.reverse()\n",
    "print(list_variable)\n",
    "\n",
    "# Clear all elements from the list\n",
    "print(\"\\n# Clear all elements from the list\")\n",
    "list_variable.clear()\n",
    "print(list_variable)"
   ]
  },
  {
   "cell_type": "markdown",
   "metadata": {},
   "source": [
    "# TUPLE FUNCTIONS"
   ]
  },
  {
   "cell_type": "code",
   "execution_count": null,
   "metadata": {},
   "outputs": [],
   "source": [
    "# Access the first element of the tuple\n",
    "print(\"# Access the first element of the tuple\")\n",
    "print(tuple_variable[0])\n",
    "\n",
    "# Get the length of the tuple\n",
    "print(\"\\n# Get the length of the tuple\")\n",
    "print(len(tuple_variable))\n",
    "\n",
    "# Count occurrences of a specific value in the tuple\n",
    "print(\"\\n# Count occurrences of a specific value in the tuple\")\n",
    "print(tuple_variable.count(1))\n",
    "\n",
    "# Find the index of a specific value in the tuple\n",
    "print(\"\\n# Find the index of a specific value in the tuple\")\n",
    "print(tuple_variable.index(0))"
   ]
  }
 ],
 "metadata": {
  "kernelspec": {
   "display_name": ".venv",
   "language": "python",
   "name": "python3"
  },
  "language_info": {
   "codemirror_mode": {
    "name": "ipython",
    "version": 3
   },
   "file_extension": ".py",
   "mimetype": "text/x-python",
   "name": "python",
   "nbconvert_exporter": "python",
   "pygments_lexer": "ipython3",
   "version": "3.11.2"
  }
 },
 "nbformat": 4,
 "nbformat_minor": 2
}
